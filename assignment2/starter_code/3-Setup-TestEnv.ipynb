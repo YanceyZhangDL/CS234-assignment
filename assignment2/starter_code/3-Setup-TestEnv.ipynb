{
 "cells": [
  {
   "cell_type": "code",
   "execution_count": 3,
   "metadata": {
    "collapsed": false
   },
   "outputs": [],
   "source": [
    "from utils.test_env import EnvTest"
   ]
  },
  {
   "cell_type": "code",
   "execution_count": 5,
   "metadata": {
    "collapsed": true
   },
   "outputs": [],
   "source": [
    "import itertools"
   ]
  },
  {
   "cell_type": "code",
   "execution_count": 6,
   "metadata": {
    "collapsed": false
   },
   "outputs": [
    {
     "name": "stdout",
     "output_type": "stream",
     "text": [
      "Reward\tTrajectory\n",
      "4.1\t(4, 2, 1, 2, 1)\n",
      "4.1\t(2, 1, 2, 1, 0)\n",
      "4.1\t(2, 1, 0, 2, 1)\n",
      "4.1\t(0, 2, 1, 2, 1)\n",
      "4.0\t(2, 4, 1, 2, 1)\n",
      "4.0\t(2, 2, 1, 2, 1)\n",
      "4.0\t(2, 1, 2, 4, 1)\n",
      "4.0\t(2, 1, 2, 2, 1)\n",
      "4.0\t(2, 1, 2, 1, 2)\n",
      "3.9\t(3, 2, 1, 2, 1)\n"
     ]
    }
   ],
   "source": [
    "env = EnvTest()\n",
    "\n",
    "actions = list(range(5))\n",
    "# construct all possible trajectories\n",
    "trajs = list(itertools.product(*[actions] * 5))\n",
    "\n",
    "rewards = []\n",
    "for t in trajs:\n",
    "    obs = env.reset()\n",
    "    rew = 0\n",
    "    done = False\n",
    "    for a in t:\n",
    "        obs_next, reward, done, info = env.step(a)\n",
    "        rew += reward\n",
    "    assert done is True\n",
    "    rewards.append(rew)\n",
    "\n",
    "# sort trajectories by their corresponding rewards\n",
    "sorted_trajs = reversed(sorted(zip(rewards, trajs), key=lambda t: t[0]))\n",
    "\n",
    "# print top 10\n",
    "print('Reward\\tTrajectory')\n",
    "for k, (rew, traj) in enumerate(sorted_trajs):\n",
    "    print('{0}\\t{1}'.format(rew, traj))\n",
    "    if k == 9:\n",
    "        break"
   ]
  },
  {
   "cell_type": "markdown",
   "metadata": {},
   "source": [
    "So the maximum sum of rewards is 4.1, and there are four ways to get there."
   ]
  }
 ],
 "metadata": {
  "kernelspec": {
   "display_name": "Python 3",
   "language": "python",
   "name": "python3"
  },
  "language_info": {
   "codemirror_mode": {
    "name": "ipython",
    "version": 3
   },
   "file_extension": ".py",
   "mimetype": "text/x-python",
   "name": "python",
   "nbconvert_exporter": "python",
   "pygments_lexer": "ipython3",
   "version": "3.5.1"
  }
 },
 "nbformat": 4,
 "nbformat_minor": 0
}
